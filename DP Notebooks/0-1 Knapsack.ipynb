{
 "cells": [
  {
   "cell_type": "markdown",
   "metadata": {},
   "source": [
    "## Test"
   ]
  },
  {
   "cell_type": "code",
   "execution_count": 46,
   "metadata": {},
   "outputs": [],
   "source": [
    "def test(func: 'knapsack solver', out=True):\n",
    "    P1, W1, C1 = [1, 6, 10, 16], [1, 2, 3, 5] , 7\n",
    "    if out: \n",
    "        print(f'Profits: {P1}, weights: {W1}, capacity: {C1}, answer: {func(P1, W1, C1)}')\n",
    "    P2, W2, C2 = [1, 6, 10, 16], [1, 2, 3, 5] , 6\n",
    "    if out:\n",
    "        print(f'Profits: {P2}, weights: {W2}, capacity: {C2}, answer: {func(P2, W2, C2)}')\n",
    "    P3, W3, C3 = [1, 6, 10, 16], [1, 2, 3, 5] , 5\n",
    "    if out:\n",
    "        print(f'Profits: {P3}, weights: {W3}, capacity: {C3}, answer: {func(P3, W3, C3)}')"
   ]
  },
  {
   "cell_type": "markdown",
   "metadata": {},
   "source": [
    "## Brute force"
   ]
  },
  {
   "cell_type": "code",
   "execution_count": 47,
   "metadata": {},
   "outputs": [],
   "source": [
    "def solve_knapsack_brute(profits: \"List[int]\", weights: \"List[int]\", capacity: int) -> int:\n",
    "    return helper_brute(profits, weights, capacity, 0)\n",
    "\n",
    "def helper_brute(profits, weights, capacity, curIdx) -> int:\n",
    "    if capacity<=0 or curIdx >= len(profits):\n",
    "        return 0\n",
    "    \n",
    "    profitWithCur = 0\n",
    "    if weights[curIdx] <= capacity:\n",
    "        profitWithCur = profits[curIdx] + helper(profits, weights, capacity - weights[curIdx], curIdx+1)\n",
    "        \n",
    "    profitWoutCur = helper(profits, weights, capacity, curIdx+1)\n",
    "    \n",
    "    return max(profitWithCur, profitWoutCur)"
   ]
  },
  {
   "cell_type": "code",
   "execution_count": 48,
   "metadata": {},
   "outputs": [
    {
     "name": "stdout",
     "output_type": "stream",
     "text": [
      "Profits: [1, 6, 10, 16], weights: [1, 2, 3, 5], capacity: 7, answer: 22\n",
      "Profits: [1, 6, 10, 16], weights: [1, 2, 3, 5], capacity: 6, answer: 17\n",
      "Profits: [1, 6, 10, 16], weights: [1, 2, 3, 5], capacity: 5, answer: 16\n"
     ]
    }
   ],
   "source": [
    "test(solve_knapsack_brute)"
   ]
  },
  {
   "cell_type": "code",
   "execution_count": 49,
   "metadata": {},
   "outputs": [
    {
     "name": "stdout",
     "output_type": "stream",
     "text": [
      "406 ns ± 5.93 ns per loop (mean ± std. dev. of 7 runs, 1000000 loops each)\n"
     ]
    }
   ],
   "source": [
    "%timeit test(solve_knapsack_brute, out=False)"
   ]
  },
  {
   "cell_type": "markdown",
   "metadata": {},
   "source": [
    "## Top-down DP"
   ]
  },
  {
   "cell_type": "code",
   "execution_count": 50,
   "metadata": {},
   "outputs": [],
   "source": [
    "def solve_knapsack_DP_topdown(profits: \"List[int]\", weights: \"List[int]\", capacity: int) -> int:\n",
    "    dp = [[-1 for x in range(capacity+1)] for y in range(len(profits))]\n",
    "    return helper_DP_topdown(dp, profits, weights, capacity, 0)\n",
    "\n",
    "def helper_DP_topdown(dp, profits, weights, capacity, curIdx) -> int:\n",
    "    if capacity<=0 or curIdx >= len(profits):\n",
    "        return 0\n",
    "    \n",
    "    if dp[curIdx][capacity] == -1:\n",
    "    \n",
    "        profitWithCur = 0\n",
    "        if weights[curIdx] <= capacity:\n",
    "            profitWithCur = profits[curIdx] + helper(profits, weights, capacity - weights[curIdx], curIdx+1)\n",
    "        \n",
    "        profitWoutCur = helper(profits, weights, capacity, curIdx+1)\n",
    "    \n",
    "        dp[curIdx][capacity] = max(profitWithCur, profitWoutCur)\n",
    "        \n",
    "    return dp[curIdx][capacity]"
   ]
  },
  {
   "cell_type": "code",
   "execution_count": 51,
   "metadata": {},
   "outputs": [
    {
     "name": "stdout",
     "output_type": "stream",
     "text": [
      "Profits: [1, 6, 10, 16], weights: [1, 2, 3, 5], capacity: 7, answer: 22\n",
      "Profits: [1, 6, 10, 16], weights: [1, 2, 3, 5], capacity: 6, answer: 17\n",
      "Profits: [1, 6, 10, 16], weights: [1, 2, 3, 5], capacity: 5, answer: 16\n"
     ]
    }
   ],
   "source": [
    "test(solve_knapsack_DP_topdown)"
   ]
  },
  {
   "cell_type": "code",
   "execution_count": 52,
   "metadata": {},
   "outputs": [
    {
     "name": "stdout",
     "output_type": "stream",
     "text": [
      "383 ns ± 3.54 ns per loop (mean ± std. dev. of 7 runs, 1000000 loops each)\n"
     ]
    }
   ],
   "source": [
    "%timeit test(solve_knapsack_DP_topdown, out=False)"
   ]
  },
  {
   "cell_type": "markdown",
   "metadata": {},
   "source": [
    "## Bottom-up DP"
   ]
  },
  {
   "cell_type": "code",
   "execution_count": 53,
   "metadata": {},
   "outputs": [],
   "source": [
    "def solve_knapsack_DP_bottomup(profits: \"List[int]\", weights: \"List[int]\", capacity: int) -> int:\n",
    "    dp = [[0 for x in range(capacity+1)] for y in range(len(profits))]\n",
    "    \n",
    "    for c in range(capacity+1):\n",
    "        if weights[0] <= c:\n",
    "            dp[0][c] = profits[0]\n",
    "            \n",
    "            \n",
    "    for i in range(1, len(profits)):\n",
    "        for c in range(1, capacity+1):\n",
    "            profitWithCur, profitWoutCur = 0, 0\n",
    "            if weights[i] <= c:\n",
    "                profitWithCur = profits[i] + dp[i-1][c-weights[i]]\n",
    "            profitWoutCur = dp[i-1][c]\n",
    "            #print(f'object={i}, capacity={c}, inc={profitWithCur}, notinc={profitWoutCur}')\n",
    "            dp[i][c] = max(profitWithCur, profitWoutCur)\n",
    "     \n",
    "    print_selected_elements(dp, weights, profits, capacity)\n",
    "    return dp[-1][-1]\n",
    "\n",
    "def print_selected_elements(dp, weights, profits, capacity):\n",
    "    print(\"Selected weights are: \", end=\"\")\n",
    "    n = len(weights)\n",
    "    totalProfit = dp[n-1][capacity]\n",
    "    for i in range(n-1, 0, -1):\n",
    "        if totalProfit != dp[i-1][capacity]:\n",
    "            print(str(weights[i]) + \" \", end=\"\")\n",
    "            capacity -= weights[i]\n",
    "            totalProfit -= profits[i]\n",
    "    if totalProfit != 0:\n",
    "        print(str(weights[0])+ \" \", end='')\n",
    "    print()"
   ]
  },
  {
   "cell_type": "code",
   "execution_count": 54,
   "metadata": {},
   "outputs": [
    {
     "name": "stdout",
     "output_type": "stream",
     "text": [
      "Selected weights are: 5 2 \n",
      "Profits: [1, 6, 10, 16], weights: [1, 2, 3, 5], capacity: 7, answer: 22\n",
      "Selected weights are: 3 2 1 \n",
      "Profits: [1, 6, 10, 16], weights: [1, 2, 3, 5], capacity: 6, answer: 17\n",
      "Selected weights are: 3 2 \n",
      "Profits: [1, 6, 10, 16], weights: [1, 2, 3, 5], capacity: 5, answer: 16\n"
     ]
    }
   ],
   "source": [
    "test(solve_knapsack_DP_bottomup)"
   ]
  },
  {
   "cell_type": "markdown",
   "metadata": {},
   "source": [
    "## DP bottom-up [optimized]"
   ]
  },
  {
   "cell_type": "code",
   "execution_count": 57,
   "metadata": {},
   "outputs": [],
   "source": [
    "def solve_knapsack_DP_bottomup_optimized(profits: \"List[int]\", weights: \"List[int]\", capacity: int) -> int:\n",
    "    dp = [[0 for _ in range(capacity+1)] for y in range(2)]\n",
    "    \n",
    "    for c in range(capacity+1):\n",
    "        if weights[0] <= c:\n",
    "            dp[0][c] = profits[0]\n",
    "            \n",
    "            \n",
    "    for i in range(1, len(profits)):\n",
    "        for c in range(1, capacity+1):\n",
    "            profitWithCur, profitWoutCur = 0, 0\n",
    "            if weights[i] <= c:\n",
    "                profitWithCur = profits[i] + dp[(i-1)%2][c-weights[i]]\n",
    "            profitWoutCur = dp[(i-1)%2][c]\n",
    "            #print(f'object={i}, capacity={c}, inc={profitWithCur}, notinc={profitWoutCur}')\n",
    "            dp[i%2][c] = max(profitWithCur, profitWoutCur)\n",
    "     \n",
    "    return dp[-1][-1]"
   ]
  },
  {
   "cell_type": "code",
   "execution_count": 58,
   "metadata": {},
   "outputs": [
    {
     "name": "stdout",
     "output_type": "stream",
     "text": [
      "Profits: [1, 6, 10, 16], weights: [1, 2, 3, 5], capacity: 7, answer: 22\n",
      "Profits: [1, 6, 10, 16], weights: [1, 2, 3, 5], capacity: 6, answer: 17\n",
      "Profits: [1, 6, 10, 16], weights: [1, 2, 3, 5], capacity: 5, answer: 16\n"
     ]
    }
   ],
   "source": [
    "test(solve_knapsack_DP_bottomup_optimized)"
   ]
  },
  {
   "cell_type": "code",
   "execution_count": 69,
   "metadata": {},
   "outputs": [],
   "source": [
    "def solve_knapsack_DP_bottomup_optimized_more(profits: \"List[int]\", weights: \"List[int]\", capacity: int) -> int:\n",
    "    dp = [0 for _ in range(capacity+1)]\n",
    "    \n",
    "    for c in range(capacity+1):\n",
    "        if weights[0] <= c:\n",
    "            dp[c] = profits[0]\n",
    "            \n",
    "            \n",
    "    for i in range(1, len(profits)):\n",
    "        for c in range(capacity, 0, -1):\n",
    "            profitWithCur, profitWoutCur = 0, 0\n",
    "            if weights[i] <= c:\n",
    "                profitWithCur = profits[i] + dp[c-weights[i]]\n",
    "            profitWoutCur = dp[c]\n",
    "            #print(f'object={i}, capacity={c}, inc={profitWithCur}, notinc={profitWoutCur}')\n",
    "            dp[c] = max(profitWithCur, profitWoutCur)\n",
    "     \n",
    "    return dp[-1]"
   ]
  },
  {
   "cell_type": "code",
   "execution_count": 70,
   "metadata": {},
   "outputs": [
    {
     "name": "stdout",
     "output_type": "stream",
     "text": [
      "Profits: [1, 6, 10, 16], weights: [1, 2, 3, 5], capacity: 7, answer: 22\n",
      "Profits: [1, 6, 10, 16], weights: [1, 2, 3, 5], capacity: 6, answer: 17\n",
      "Profits: [1, 6, 10, 16], weights: [1, 2, 3, 5], capacity: 5, answer: 16\n"
     ]
    }
   ],
   "source": [
    "test(solve_knapsack_DP_bottomup_optimized_more)"
   ]
  },
  {
   "cell_type": "code",
   "execution_count": null,
   "metadata": {},
   "outputs": [],
   "source": []
  },
  {
   "cell_type": "code",
   "execution_count": null,
   "metadata": {},
   "outputs": [],
   "source": []
  }
 ],
 "metadata": {
  "kernelspec": {
   "display_name": "Python 3",
   "language": "python",
   "name": "python3"
  },
  "language_info": {
   "codemirror_mode": {
    "name": "ipython",
    "version": 3
   },
   "file_extension": ".py",
   "mimetype": "text/x-python",
   "name": "python",
   "nbconvert_exporter": "python",
   "pygments_lexer": "ipython3",
   "version": "3.7.4"
  }
 },
 "nbformat": 4,
 "nbformat_minor": 2
}
