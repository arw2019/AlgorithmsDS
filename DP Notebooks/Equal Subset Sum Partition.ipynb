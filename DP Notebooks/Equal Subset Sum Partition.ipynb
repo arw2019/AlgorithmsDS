{
 "cells": [
  {
   "cell_type": "code",
   "execution_count": 16,
   "metadata": {},
   "outputs": [],
   "source": [
    "def test(func):\n",
    "    A = [1, 2, 3, 4]\n",
    "    print(f'input={A}, answer={func(A)}')\n",
    "    B = [1, 1, 3, 4, 7]\n",
    "    print(f'input={B}, answer={func(B)}')\n",
    "    C = [2, 3, 4, 6]\n",
    "    print(f'input={C}, answer={func(C)}')"
   ]
  },
  {
   "cell_type": "code",
   "execution_count": 19,
   "metadata": {},
   "outputs": [],
   "source": [
    "def existsPartition(nums: 'List[int]') -> bool:\n",
    "    totalSum = sum(nums)\n",
    "    if totalSum%2 == 1: return False\n",
    "    target = totalSum//2\n",
    "    \n",
    "    dp = [[False for x in range(target+1)] for y in range(len(nums))]\n",
    "    \n",
    "    for i in range(len(nums)):\n",
    "        dp[i][0] = True\n",
    "        \n",
    "    for j in range(1, len(nums)):\n",
    "        dp[0][j] = nums[j] == j\n",
    "        \n",
    "    for i in range(1, len(nums)):\n",
    "        for j in range(1, target+1):\n",
    "            if dp[i-1][j]:\n",
    "                dp[i][j] = dp[i-1][j]\n",
    "            elif j >= nums[i]:\n",
    "                dp[i][j] = dp[i-1][j-nums[i]]\n",
    "    \n",
    "    return dp[-1][-1]"
   ]
  },
  {
   "cell_type": "code",
   "execution_count": 20,
   "metadata": {},
   "outputs": [
    {
     "name": "stdout",
     "output_type": "stream",
     "text": [
      "input=[1, 2, 3, 4], answer=True\n",
      "input=[1, 1, 3, 4, 7], answer=True\n",
      "input=[2, 3, 4, 6], answer=False\n"
     ]
    }
   ],
   "source": [
    "test(existsPartition)"
   ]
  },
  {
   "cell_type": "code",
   "execution_count": null,
   "metadata": {},
   "outputs": [],
   "source": []
  }
 ],
 "metadata": {
  "kernelspec": {
   "display_name": "Python 3",
   "language": "python",
   "name": "python3"
  },
  "language_info": {
   "codemirror_mode": {
    "name": "ipython",
    "version": 3
   },
   "file_extension": ".py",
   "mimetype": "text/x-python",
   "name": "python",
   "nbconvert_exporter": "python",
   "pygments_lexer": "ipython3",
   "version": "3.7.4"
  }
 },
 "nbformat": 4,
 "nbformat_minor": 2
}
